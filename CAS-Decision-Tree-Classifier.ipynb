{
  "nbformat": 4,
  "nbformat_minor": 0,
  "metadata": {
    "colab": {
      "provenance": [],
      "authorship_tag": "ABX9TyMOs59CeQRpClMlxuXa/2Ev",
      "include_colab_link": true
    },
    "kernelspec": {
      "name": "python3",
      "display_name": "Python 3"
    },
    "language_info": {
      "name": "python"
    }
  },
  "cells": [
    {
      "cell_type": "markdown",
      "metadata": {
        "id": "view-in-github",
        "colab_type": "text"
      },
      "source": [
        "<a href=\"https://colab.research.google.com/github/charlottepfritz/CAS-AEBS-Prototype-for-Electric-Vehicle/blob/main/CAS-Decision-Tree-Classifier.ipynb\" target=\"_parent\"><img src=\"https://colab.research.google.com/assets/colab-badge.svg\" alt=\"Open In Colab\"/></a>"
      ]
    },
    {
      "cell_type": "code",
      "execution_count": null,
      "metadata": {
        "id": "BK64LnpjH9Yr",
        "colab": {
          "base_uri": "https://localhost:8080/"
        },
        "outputId": "2b521f3f-4457-4abd-8ce7-ec86286d7cf4"
      },
      "outputs": [
        {
          "output_type": "stream",
          "name": "stdout",
          "text": [
            "Accuracy: 0.46153846153846156\n"
          ]
        },
        {
          "output_type": "execute_result",
          "data": {
            "text/plain": [
              "['collision_avoidance_model.joblib']"
            ]
          },
          "metadata": {},
          "execution_count": 7
        }
      ],
      "source": [
        "import pandas as pd\n",
        "from sklearn.model_selection import train_test_split\n",
        "from sklearn.tree import DecisionTreeClassifier\n",
        "from sklearn.metrics import accuracy_score\n",
        "import joblib  # To save the trained model\n",
        "\n",
        "# Load the collected data\n",
        "data = pd.read_csv('action-vals.csv')\n",
        "\n",
        "# Features: Sensor distances\n",
        "X = data.iloc[:, :-1].values  # All columns except the last one (Action)\n",
        "# Labels: Actions taken (0 = No action, 1 = Turn Left, 2 = Turn Right, 3 = Stop)\n",
        "y = data.iloc[:, -1].values\n",
        "\n",
        "# Split data into training and testing sets\n",
        "X_train, X_test, y_train, y_test = train_test_split(X, y, test_size=0.2, random_state=42)\n",
        "\n",
        "# Train a decision tree classifier\n",
        "clf = DecisionTreeClassifier()\n",
        "clf.fit(X_train, y_train)\n",
        "\n",
        "# Test the classifier\n",
        "y_pred = clf.predict(X_test)\n",
        "print(f\"Accuracy: {accuracy_score(y_test, y_pred)}\")\n",
        "\n",
        "# Save the trained model for deployment on STM32\n",
        "joblib.dump(clf, 'collision_avoidance_model.joblib')\n"
      ]
    }
  ]
}